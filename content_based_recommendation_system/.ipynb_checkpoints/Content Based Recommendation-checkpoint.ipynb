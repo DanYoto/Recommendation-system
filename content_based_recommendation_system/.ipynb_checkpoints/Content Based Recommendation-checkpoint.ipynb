{
 "cells": [
  {
   "cell_type": "code",
   "execution_count": 31,
   "id": "94b8a1da",
   "metadata": {},
   "outputs": [],
   "source": [
    "import numpy as np\n",
    "import pandas as pd\n",
    "import re\n",
    "from pandas.testing import assert_frame_equal"
   ]
  },
  {
   "cell_type": "code",
   "execution_count": 32,
   "id": "b38a4aff",
   "metadata": {},
   "outputs": [],
   "source": [
    "#movies = pd.read_csv(\"ml-1m/movies.dat\", sep = '::', header = None, engine = 'python', usecols = range(1,3))\n",
    "#ratings = pd.read_csv(\"ml-1m/ratings.dat\", sep = '::', header = None, engine = 'python')\n",
    "#users = pd.read_csv(\"ml-1m/users.dat\", sep = '::', header = None, engine = 'python')"
   ]
  },
  {
   "cell_type": "code",
   "execution_count": 33,
   "id": "9671e6e3",
   "metadata": {},
   "outputs": [],
   "source": [
    "movies = pd.read_csv(\"ml-latest/movies.csv\", index_col = \"movieId\")\n",
    "all_tags = pd.read_csv(\"ml-latest/all-tags.csv\", usecols = range(1,3))\n",
    "ratings = pd.read_csv(\"ml-latest/ratings.csv\")\n",
    "links = pd.read_csv(\"ml-latest/links.csv\")"
   ]
  },
  {
   "cell_type": "markdown",
   "id": "3243a2f7",
   "metadata": {},
   "source": [
    "# Part I"
   ]
  },
  {
   "cell_type": "markdown",
   "id": "ad22cbf3",
   "metadata": {},
   "source": [
    "### data preprocessing"
   ]
  },
  {
   "cell_type": "code",
   "execution_count": 34,
   "id": "2f099ebe",
   "metadata": {},
   "outputs": [],
   "source": [
    "#In the following part, we want to find tags for each movie, the TF_IDF model should be used when rating tags\n",
    "#Next we need to find the top N tags\n",
    "#First we need to preprocess the data"
   ]
  },
  {
   "cell_type": "code",
   "execution_count": 35,
   "id": "7c2fe277",
   "metadata": {},
   "outputs": [],
   "source": [
    "#First, we need to process the data of genres as it is in string form\n",
    "movies[\"genres\"] = movies[\"genres\"].apply(lambda x: x.split(\"|\"))"
   ]
  },
  {
   "cell_type": "code",
   "execution_count": 36,
   "id": "e2a042b6",
   "metadata": {},
   "outputs": [
    {
     "data": {
      "text/html": [
       "<div>\n",
       "<style scoped>\n",
       "    .dataframe tbody tr th:only-of-type {\n",
       "        vertical-align: middle;\n",
       "    }\n",
       "\n",
       "    .dataframe tbody tr th {\n",
       "        vertical-align: top;\n",
       "    }\n",
       "\n",
       "    .dataframe thead th {\n",
       "        text-align: right;\n",
       "    }\n",
       "</style>\n",
       "<table border=\"1\" class=\"dataframe\">\n",
       "  <thead>\n",
       "    <tr style=\"text-align: right;\">\n",
       "      <th></th>\n",
       "      <th>title</th>\n",
       "      <th>genres</th>\n",
       "    </tr>\n",
       "    <tr>\n",
       "      <th>movieId</th>\n",
       "      <th></th>\n",
       "      <th></th>\n",
       "    </tr>\n",
       "  </thead>\n",
       "  <tbody>\n",
       "    <tr>\n",
       "      <th>1</th>\n",
       "      <td>Toy Story (1995)</td>\n",
       "      <td>[Adventure, Animation, Children, Comedy, Fantasy]</td>\n",
       "    </tr>\n",
       "    <tr>\n",
       "      <th>2</th>\n",
       "      <td>Jumanji (1995)</td>\n",
       "      <td>[Adventure, Children, Fantasy]</td>\n",
       "    </tr>\n",
       "    <tr>\n",
       "      <th>3</th>\n",
       "      <td>Grumpier Old Men (1995)</td>\n",
       "      <td>[Comedy, Romance]</td>\n",
       "    </tr>\n",
       "    <tr>\n",
       "      <th>4</th>\n",
       "      <td>Waiting to Exhale (1995)</td>\n",
       "      <td>[Comedy, Drama, Romance]</td>\n",
       "    </tr>\n",
       "    <tr>\n",
       "      <th>5</th>\n",
       "      <td>Father of the Bride Part II (1995)</td>\n",
       "      <td>[Comedy]</td>\n",
       "    </tr>\n",
       "    <tr>\n",
       "      <th>...</th>\n",
       "      <td>...</td>\n",
       "      <td>...</td>\n",
       "    </tr>\n",
       "    <tr>\n",
       "      <th>193581</th>\n",
       "      <td>Black Butler: Book of the Atlantic (2017)</td>\n",
       "      <td>[Action, Animation, Comedy, Fantasy]</td>\n",
       "    </tr>\n",
       "    <tr>\n",
       "      <th>193583</th>\n",
       "      <td>No Game No Life: Zero (2017)</td>\n",
       "      <td>[Animation, Comedy, Fantasy]</td>\n",
       "    </tr>\n",
       "    <tr>\n",
       "      <th>193585</th>\n",
       "      <td>Flint (2017)</td>\n",
       "      <td>[Drama]</td>\n",
       "    </tr>\n",
       "    <tr>\n",
       "      <th>193587</th>\n",
       "      <td>Bungo Stray Dogs: Dead Apple (2018)</td>\n",
       "      <td>[Action, Animation]</td>\n",
       "    </tr>\n",
       "    <tr>\n",
       "      <th>193609</th>\n",
       "      <td>Andrew Dice Clay: Dice Rules (1991)</td>\n",
       "      <td>[Comedy]</td>\n",
       "    </tr>\n",
       "  </tbody>\n",
       "</table>\n",
       "<p>9742 rows × 2 columns</p>\n",
       "</div>"
      ],
      "text/plain": [
       "                                             title  \\\n",
       "movieId                                              \n",
       "1                                 Toy Story (1995)   \n",
       "2                                   Jumanji (1995)   \n",
       "3                          Grumpier Old Men (1995)   \n",
       "4                         Waiting to Exhale (1995)   \n",
       "5               Father of the Bride Part II (1995)   \n",
       "...                                            ...   \n",
       "193581   Black Butler: Book of the Atlantic (2017)   \n",
       "193583                No Game No Life: Zero (2017)   \n",
       "193585                                Flint (2017)   \n",
       "193587         Bungo Stray Dogs: Dead Apple (2018)   \n",
       "193609         Andrew Dice Clay: Dice Rules (1991)   \n",
       "\n",
       "                                                    genres  \n",
       "movieId                                                     \n",
       "1        [Adventure, Animation, Children, Comedy, Fantasy]  \n",
       "2                           [Adventure, Children, Fantasy]  \n",
       "3                                        [Comedy, Romance]  \n",
       "4                                 [Comedy, Drama, Romance]  \n",
       "5                                                 [Comedy]  \n",
       "...                                                    ...  \n",
       "193581                [Action, Animation, Comedy, Fantasy]  \n",
       "193583                        [Animation, Comedy, Fantasy]  \n",
       "193585                                             [Drama]  \n",
       "193587                                 [Action, Animation]  \n",
       "193609                                            [Comedy]  \n",
       "\n",
       "[9742 rows x 2 columns]"
      ]
     },
     "execution_count": 36,
     "metadata": {},
     "output_type": "execute_result"
    }
   ],
   "source": [
    "movies"
   ]
  },
  {
   "cell_type": "code",
   "execution_count": 37,
   "id": "f205a0a9",
   "metadata": {},
   "outputs": [],
   "source": [
    "#to find all of the tags of the data\n",
    "tags = all_tags.groupby(\"movieId\").agg(list)"
   ]
  },
  {
   "cell_type": "code",
   "execution_count": 38,
   "id": "71f55d4e",
   "metadata": {},
   "outputs": [],
   "source": [
    "#Next we need to merge two dataframe\n",
    "ret = movies.join(tags, on = \"movieId\")"
   ]
  },
  {
   "cell_type": "code",
   "execution_count": 39,
   "id": "21fc2aa2",
   "metadata": {},
   "outputs": [
    {
     "data": {
      "text/html": [
       "<div>\n",
       "<style scoped>\n",
       "    .dataframe tbody tr th:only-of-type {\n",
       "        vertical-align: middle;\n",
       "    }\n",
       "\n",
       "    .dataframe tbody tr th {\n",
       "        vertical-align: top;\n",
       "    }\n",
       "\n",
       "    .dataframe thead th {\n",
       "        text-align: right;\n",
       "    }\n",
       "</style>\n",
       "<table border=\"1\" class=\"dataframe\">\n",
       "  <thead>\n",
       "    <tr style=\"text-align: right;\">\n",
       "      <th></th>\n",
       "      <th>title</th>\n",
       "      <th>genres</th>\n",
       "      <th>tag</th>\n",
       "    </tr>\n",
       "    <tr>\n",
       "      <th>movieId</th>\n",
       "      <th></th>\n",
       "      <th></th>\n",
       "      <th></th>\n",
       "    </tr>\n",
       "  </thead>\n",
       "  <tbody>\n",
       "    <tr>\n",
       "      <th>1</th>\n",
       "      <td>Toy Story (1995)</td>\n",
       "      <td>[Adventure, Animation, Children, Comedy, Fantasy]</td>\n",
       "      <td>[animated, buddy movie, Cartoon, cgi, comedy, ...</td>\n",
       "    </tr>\n",
       "    <tr>\n",
       "      <th>2</th>\n",
       "      <td>Jumanji (1995)</td>\n",
       "      <td>[Adventure, Children, Fantasy]</td>\n",
       "      <td>[fantasy, adapted from:book, animals, bad cgi,...</td>\n",
       "    </tr>\n",
       "    <tr>\n",
       "      <th>3</th>\n",
       "      <td>Grumpier Old Men (1995)</td>\n",
       "      <td>[Comedy, Romance]</td>\n",
       "      <td>[moldy, old, Ann Margaret, Burgess Meredith, D...</td>\n",
       "    </tr>\n",
       "    <tr>\n",
       "      <th>4</th>\n",
       "      <td>Waiting to Exhale (1995)</td>\n",
       "      <td>[Comedy, Drama, Romance]</td>\n",
       "      <td>[characters, girl movie, characters, chick fli...</td>\n",
       "    </tr>\n",
       "    <tr>\n",
       "      <th>5</th>\n",
       "      <td>Father of the Bride Part II (1995)</td>\n",
       "      <td>[Comedy]</td>\n",
       "      <td>[steve martin, steve martin, pregnancy, remake...</td>\n",
       "    </tr>\n",
       "    <tr>\n",
       "      <th>...</th>\n",
       "      <td>...</td>\n",
       "      <td>...</td>\n",
       "      <td>...</td>\n",
       "    </tr>\n",
       "    <tr>\n",
       "      <th>193581</th>\n",
       "      <td>Black Butler: Book of the Atlantic (2017)</td>\n",
       "      <td>[Action, Animation, Comedy, Fantasy]</td>\n",
       "      <td>NaN</td>\n",
       "    </tr>\n",
       "    <tr>\n",
       "      <th>193583</th>\n",
       "      <td>No Game No Life: Zero (2017)</td>\n",
       "      <td>[Animation, Comedy, Fantasy]</td>\n",
       "      <td>NaN</td>\n",
       "    </tr>\n",
       "    <tr>\n",
       "      <th>193585</th>\n",
       "      <td>Flint (2017)</td>\n",
       "      <td>[Drama]</td>\n",
       "      <td>NaN</td>\n",
       "    </tr>\n",
       "    <tr>\n",
       "      <th>193587</th>\n",
       "      <td>Bungo Stray Dogs: Dead Apple (2018)</td>\n",
       "      <td>[Action, Animation]</td>\n",
       "      <td>NaN</td>\n",
       "    </tr>\n",
       "    <tr>\n",
       "      <th>193609</th>\n",
       "      <td>Andrew Dice Clay: Dice Rules (1991)</td>\n",
       "      <td>[Comedy]</td>\n",
       "      <td>NaN</td>\n",
       "    </tr>\n",
       "  </tbody>\n",
       "</table>\n",
       "<p>9742 rows × 3 columns</p>\n",
       "</div>"
      ],
      "text/plain": [
       "                                             title  \\\n",
       "movieId                                              \n",
       "1                                 Toy Story (1995)   \n",
       "2                                   Jumanji (1995)   \n",
       "3                          Grumpier Old Men (1995)   \n",
       "4                         Waiting to Exhale (1995)   \n",
       "5               Father of the Bride Part II (1995)   \n",
       "...                                            ...   \n",
       "193581   Black Butler: Book of the Atlantic (2017)   \n",
       "193583                No Game No Life: Zero (2017)   \n",
       "193585                                Flint (2017)   \n",
       "193587         Bungo Stray Dogs: Dead Apple (2018)   \n",
       "193609         Andrew Dice Clay: Dice Rules (1991)   \n",
       "\n",
       "                                                    genres  \\\n",
       "movieId                                                      \n",
       "1        [Adventure, Animation, Children, Comedy, Fantasy]   \n",
       "2                           [Adventure, Children, Fantasy]   \n",
       "3                                        [Comedy, Romance]   \n",
       "4                                 [Comedy, Drama, Romance]   \n",
       "5                                                 [Comedy]   \n",
       "...                                                    ...   \n",
       "193581                [Action, Animation, Comedy, Fantasy]   \n",
       "193583                        [Animation, Comedy, Fantasy]   \n",
       "193585                                             [Drama]   \n",
       "193587                                 [Action, Animation]   \n",
       "193609                                            [Comedy]   \n",
       "\n",
       "                                                       tag  \n",
       "movieId                                                     \n",
       "1        [animated, buddy movie, Cartoon, cgi, comedy, ...  \n",
       "2        [fantasy, adapted from:book, animals, bad cgi,...  \n",
       "3        [moldy, old, Ann Margaret, Burgess Meredith, D...  \n",
       "4        [characters, girl movie, characters, chick fli...  \n",
       "5        [steve martin, steve martin, pregnancy, remake...  \n",
       "...                                                    ...  \n",
       "193581                                                 NaN  \n",
       "193583                                                 NaN  \n",
       "193585                                                 NaN  \n",
       "193587                                                 NaN  \n",
       "193609                                                 NaN  \n",
       "\n",
       "[9742 rows x 3 columns]"
      ]
     },
     "execution_count": 39,
     "metadata": {},
     "output_type": "execute_result"
    }
   ],
   "source": [
    "ret"
   ]
  },
  {
   "cell_type": "code",
   "execution_count": 40,
   "id": "646a6972",
   "metadata": {},
   "outputs": [],
   "source": [
    "df = map(lambda x: (x[0], x[1], x[2], x[2] + x[3]) if x[3] is not np.nan else (x[0], x[1], x[2], x[2]), ret.itertuples())"
   ]
  },
  {
   "cell_type": "code",
   "execution_count": 41,
   "id": "01fd50f9",
   "metadata": {},
   "outputs": [],
   "source": [
    "dataframe = pd.DataFrame(df, columns = ['movieId', 'title', 'genres', 'tags'])"
   ]
  },
  {
   "cell_type": "code",
   "execution_count": 56,
   "id": "f28d5856",
   "metadata": {},
   "outputs": [
    {
     "data": {
      "text/html": [
       "<div>\n",
       "<style scoped>\n",
       "    .dataframe tbody tr th:only-of-type {\n",
       "        vertical-align: middle;\n",
       "    }\n",
       "\n",
       "    .dataframe tbody tr th {\n",
       "        vertical-align: top;\n",
       "    }\n",
       "\n",
       "    .dataframe thead th {\n",
       "        text-align: right;\n",
       "    }\n",
       "</style>\n",
       "<table border=\"1\" class=\"dataframe\">\n",
       "  <thead>\n",
       "    <tr style=\"text-align: right;\">\n",
       "      <th></th>\n",
       "      <th>title</th>\n",
       "      <th>genres</th>\n",
       "      <th>tags</th>\n",
       "    </tr>\n",
       "    <tr>\n",
       "      <th>movieId</th>\n",
       "      <th></th>\n",
       "      <th></th>\n",
       "      <th></th>\n",
       "    </tr>\n",
       "  </thead>\n",
       "  <tbody>\n",
       "    <tr>\n",
       "      <th>1</th>\n",
       "      <td>Toy Story (1995)</td>\n",
       "      <td>[Adventure, Animation, Children, Comedy, Fantasy]</td>\n",
       "      <td>[Adventure, Animation, Children, Comedy, Fanta...</td>\n",
       "    </tr>\n",
       "    <tr>\n",
       "      <th>2</th>\n",
       "      <td>Jumanji (1995)</td>\n",
       "      <td>[Adventure, Children, Fantasy]</td>\n",
       "      <td>[Adventure, Children, Fantasy, fantasy, adapte...</td>\n",
       "    </tr>\n",
       "    <tr>\n",
       "      <th>3</th>\n",
       "      <td>Grumpier Old Men (1995)</td>\n",
       "      <td>[Comedy, Romance]</td>\n",
       "      <td>[Comedy, Romance, moldy, old, Ann Margaret, Bu...</td>\n",
       "    </tr>\n",
       "    <tr>\n",
       "      <th>4</th>\n",
       "      <td>Waiting to Exhale (1995)</td>\n",
       "      <td>[Comedy, Drama, Romance]</td>\n",
       "      <td>[Comedy, Drama, Romance, characters, girl movi...</td>\n",
       "    </tr>\n",
       "    <tr>\n",
       "      <th>5</th>\n",
       "      <td>Father of the Bride Part II (1995)</td>\n",
       "      <td>[Comedy]</td>\n",
       "      <td>[Comedy, steve martin, steve martin, pregnancy...</td>\n",
       "    </tr>\n",
       "    <tr>\n",
       "      <th>...</th>\n",
       "      <td>...</td>\n",
       "      <td>...</td>\n",
       "      <td>...</td>\n",
       "    </tr>\n",
       "    <tr>\n",
       "      <th>193581</th>\n",
       "      <td>Black Butler: Book of the Atlantic (2017)</td>\n",
       "      <td>[Action, Animation, Comedy, Fantasy]</td>\n",
       "      <td>[Action, Animation, Comedy, Fantasy]</td>\n",
       "    </tr>\n",
       "    <tr>\n",
       "      <th>193583</th>\n",
       "      <td>No Game No Life: Zero (2017)</td>\n",
       "      <td>[Animation, Comedy, Fantasy]</td>\n",
       "      <td>[Animation, Comedy, Fantasy]</td>\n",
       "    </tr>\n",
       "    <tr>\n",
       "      <th>193585</th>\n",
       "      <td>Flint (2017)</td>\n",
       "      <td>[Drama]</td>\n",
       "      <td>[Drama]</td>\n",
       "    </tr>\n",
       "    <tr>\n",
       "      <th>193587</th>\n",
       "      <td>Bungo Stray Dogs: Dead Apple (2018)</td>\n",
       "      <td>[Action, Animation]</td>\n",
       "      <td>[Action, Animation]</td>\n",
       "    </tr>\n",
       "    <tr>\n",
       "      <th>193609</th>\n",
       "      <td>Andrew Dice Clay: Dice Rules (1991)</td>\n",
       "      <td>[Comedy]</td>\n",
       "      <td>[Comedy]</td>\n",
       "    </tr>\n",
       "  </tbody>\n",
       "</table>\n",
       "<p>9742 rows × 3 columns</p>\n",
       "</div>"
      ],
      "text/plain": [
       "                                             title  \\\n",
       "movieId                                              \n",
       "1                                 Toy Story (1995)   \n",
       "2                                   Jumanji (1995)   \n",
       "3                          Grumpier Old Men (1995)   \n",
       "4                         Waiting to Exhale (1995)   \n",
       "5               Father of the Bride Part II (1995)   \n",
       "...                                            ...   \n",
       "193581   Black Butler: Book of the Atlantic (2017)   \n",
       "193583                No Game No Life: Zero (2017)   \n",
       "193585                                Flint (2017)   \n",
       "193587         Bungo Stray Dogs: Dead Apple (2018)   \n",
       "193609         Andrew Dice Clay: Dice Rules (1991)   \n",
       "\n",
       "                                                    genres  \\\n",
       "movieId                                                      \n",
       "1        [Adventure, Animation, Children, Comedy, Fantasy]   \n",
       "2                           [Adventure, Children, Fantasy]   \n",
       "3                                        [Comedy, Romance]   \n",
       "4                                 [Comedy, Drama, Romance]   \n",
       "5                                                 [Comedy]   \n",
       "...                                                    ...   \n",
       "193581                [Action, Animation, Comedy, Fantasy]   \n",
       "193583                        [Animation, Comedy, Fantasy]   \n",
       "193585                                             [Drama]   \n",
       "193587                                 [Action, Animation]   \n",
       "193609                                            [Comedy]   \n",
       "\n",
       "                                                      tags  \n",
       "movieId                                                     \n",
       "1        [Adventure, Animation, Children, Comedy, Fanta...  \n",
       "2        [Adventure, Children, Fantasy, fantasy, adapte...  \n",
       "3        [Comedy, Romance, moldy, old, Ann Margaret, Bu...  \n",
       "4        [Comedy, Drama, Romance, characters, girl movi...  \n",
       "5        [Comedy, steve martin, steve martin, pregnancy...  \n",
       "...                                                    ...  \n",
       "193581                [Action, Animation, Comedy, Fantasy]  \n",
       "193583                        [Animation, Comedy, Fantasy]  \n",
       "193585                                             [Drama]  \n",
       "193587                                 [Action, Animation]  \n",
       "193609                                            [Comedy]  \n",
       "\n",
       "[9742 rows x 3 columns]"
      ]
     },
     "execution_count": 56,
     "metadata": {},
     "output_type": "execute_result"
    }
   ],
   "source": [
    "dataframe.set_index('movieId')"
   ]
  },
  {
   "cell_type": "markdown",
   "id": "8d93e5a1",
   "metadata": {},
   "source": [
    "### TF-IDF model to find the top N tags"
   ]
  },
  {
   "cell_type": "code",
   "execution_count": 64,
   "id": "11469e6b",
   "metadata": {},
   "outputs": [],
   "source": [
    "#from sklearn.feature_extraction.text import TfidfTransformer\n",
    "#from sklearn.feature_extraction.text import CountVectorizer\n",
    "#transformer = TfidfTransformer() #This is to find the term frequency matrix\n",
    "from gensim.corpora import Dictionary\n",
    "from gensim.models import TfidfModel\n",
    "import pprint"
   ]
  },
  {
   "cell_type": "code",
   "execution_count": 66,
   "id": "8d5bf159",
   "metadata": {},
   "outputs": [],
   "source": [
    "dataset = dataframe['tags'].values"
   ]
  },
  {
   "cell_type": "code",
   "execution_count": 67,
   "id": "12740e3d",
   "metadata": {},
   "outputs": [],
   "source": [
    "#This part is to get rid of the nan from the list\n",
    "cleaned_dataset = []\n",
    "for i in dataset:\n",
    "    tmp = []\n",
    "    for j in i:\n",
    "        if isinstance(j, float):\n",
    "            continue\n",
    "        tmp.append(j)\n",
    "    cleaned_dataset.append(tmp)"
   ]
  },
  {
   "cell_type": "code",
   "execution_count": 68,
   "id": "72ff773c",
   "metadata": {},
   "outputs": [],
   "source": [
    "dct = Dictionary(cleaned_dataset)"
   ]
  },
  {
   "cell_type": "code",
   "execution_count": 69,
   "id": "7c6396ef",
   "metadata": {},
   "outputs": [],
   "source": [
    "corpus = [dct.doc2bow(line) for line in cleaned_dataset]"
   ]
  },
  {
   "cell_type": "code",
   "execution_count": 70,
   "id": "e0049af2",
   "metadata": {},
   "outputs": [],
   "source": [
    "model = TfidfModel(corpus)"
   ]
  },
  {
   "cell_type": "code",
   "execution_count": 74,
   "id": "201e261a",
   "metadata": {},
   "outputs": [
    {
     "data": {
      "text/plain": [
       "[(12, 0.051747063955290044),\n",
       " (15, 0.021957016542248128),\n",
       " (63, 0.054649787813602545),\n",
       " (84, 0.056864078583617375),\n",
       " (178, 0.21288710924763993),\n",
       " (179, 0.17135464886250154),\n",
       " (180, 0.1619560862600595),\n",
       " (181, 0.13564758341236932),\n",
       " (182, 0.17135464886250154),\n",
       " (183, 0.29723862736449447),\n",
       " (184, 0.08839729073297667),\n",
       " (185, 0.04138540761891935),\n",
       " (186, 0.18742159775384973),\n",
       " (187, 0.3105753999423067),\n",
       " (188, 0.11131301365230653),\n",
       " (189, 0.21288710924763993),\n",
       " (190, 0.21288710924763993),\n",
       " (191, 0.07853618600270869),\n",
       " (192, 0.29723862736449447),\n",
       " (193, 0.12085690405046519),\n",
       " (194, 0.19682016035629177),\n",
       " (195, 0.42577421849527985),\n",
       " (196, 0.2571378522072838),\n",
       " (197, 0.1573045982378806),\n",
       " (198, 0.21288710924763993),\n",
       " (199, 0.14143347340990145),\n",
       " (200, 0.15528769997115335)]"
      ]
     },
     "execution_count": 74,
     "metadata": {},
     "output_type": "execute_result"
    }
   ],
   "source": [
    "model[corpus][2]"
   ]
  },
  {
   "cell_type": "code",
   "execution_count": 71,
   "id": "5d778495",
   "metadata": {},
   "outputs": [
    {
     "data": {
      "text/plain": [
       "9742"
      ]
     },
     "execution_count": 71,
     "metadata": {},
     "output_type": "execute_result"
    }
   ],
   "source": [
    "#TF-IDF\n",
    "len(model[corpus])"
   ]
  },
  {
   "cell_type": "code",
   "execution_count": 72,
   "id": "15f64ce4",
   "metadata": {},
   "outputs": [],
   "source": [
    "#In the next part, we need to calculate the top-N words\n",
    "movie_profile = {}\n",
    "for i, element in enumerate(dataframe.index):\n",
    "    tfidf_vec = model[corpus[i]]\n",
    "    #sort and select top 30 value\n",
    "    movie_tag = sorted(tfidf_vec, key = lambda x: x[1], reverse = True)[:30]\n",
    "    movie_profile[element] = dict(map(lambda x:(dct[x[0]], x[1]), movie_tag))"
   ]
  },
  {
   "cell_type": "code",
   "execution_count": 75,
   "id": "5a63ef02",
   "metadata": {},
   "outputs": [
    {
     "data": {
      "text/plain": [
       "{'moldy': 0.42577421849527985,\n",
       " 'Walter Matthau': 0.3105753999423067,\n",
       " 'Jack Lemmon': 0.29723862736449447,\n",
       " 'fishing': 0.29723862736449447,\n",
       " 'old': 0.2571378522072838,\n",
       " 'Ann Margaret': 0.21288710924763993,\n",
       " 'comedinha de velhinhos engraÃ§ada': 0.21288710924763993,\n",
       " 'comedinha de velhinhos engraÃƒÂ§ada': 0.21288710924763993,\n",
       " 'old people that is actually funny': 0.21288710924763993,\n",
       " 'grun running': 0.19682016035629177,\n",
       " 'Sophia Loren': 0.18742159775384973,\n",
       " 'Burgess Meredith': 0.17135464886250154,\n",
       " 'Howard Deutch': 0.17135464886250154,\n",
       " 'Daryl Hannah': 0.1619560862600595,\n",
       " 'old man': 0.1573045982378806,\n",
       " 'sequel fever': 0.15528769997115335,\n",
       " 'sequel': 0.14143347340990145,\n",
       " 'Funniest Movies': 0.13564758341236932,\n",
       " 'good soundtrack': 0.12085690405046519,\n",
       " 'best friend': 0.11131301365230653,\n",
       " 'NO_FA_GANES': 0.08839729073297667,\n",
       " 'duringcreditsstinger': 0.07853618600270869,\n",
       " 'funny': 0.056864078583617375,\n",
       " 'comedy': 0.054649787813602545,\n",
       " 'CLV': 0.051747063955290044,\n",
       " 'Romance': 0.04138540761891935,\n",
       " 'Comedy': 0.021957016542248128}"
      ]
     },
     "execution_count": 75,
     "metadata": {},
     "output_type": "execute_result"
    }
   ],
   "source": [
    "movie_profile[2]"
   ]
  },
  {
   "cell_type": "code",
   "execution_count": null,
   "id": "0a909664",
   "metadata": {},
   "outputs": [],
   "source": []
  }
 ],
 "metadata": {
  "kernelspec": {
   "display_name": "Python 3",
   "language": "python",
   "name": "python3"
  },
  "language_info": {
   "codemirror_mode": {
    "name": "ipython",
    "version": 3
   },
   "file_extension": ".py",
   "mimetype": "text/x-python",
   "name": "python",
   "nbconvert_exporter": "python",
   "pygments_lexer": "ipython3",
   "version": "3.8.8"
  }
 },
 "nbformat": 4,
 "nbformat_minor": 5
}
